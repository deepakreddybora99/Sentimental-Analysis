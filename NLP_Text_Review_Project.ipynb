{
 "cells": [
  {
   "cell_type": "markdown",
   "id": "d55ba977",
   "metadata": {},
   "source": [
    "# Sentiment Analysis on Amazon Food Reviews"
   ]
  },
  {
   "cell_type": "markdown",
   "id": "93ebd67e",
   "metadata": {},
   "source": [
    "## Importing Necessary Libraries"
   ]
  },
  {
   "cell_type": "code",
   "execution_count": 2,
   "id": "c0aad44d",
   "metadata": {},
   "outputs": [],
   "source": [
    "#importing Necessary libraries\n",
    "import zipfile\n",
    "import pandas as pd\n",
    "import numpy as np\n",
    "import matplotlib.pyplot as plt\n",
    "import seaborn as sns\n",
    "import re\n",
    "import os\n",
    "from datetime import datetime\n",
    "from glob import glob\n",
    "\n",
    "import nltk\n",
    "from textblob import TextBlob,Word\n",
    "from nltk.corpus import stopwords\n",
    "sw=stopwords.words(\"english\")\n",
    "from nltk.tokenize import word_tokenize\n",
    "from nltk.stem import PorterStemmer\n",
    "from nltk.stem import WordNetLemmatizer\n",
    "\n",
    "from tqdm import tqdm,tqdm_notebook\n",
    "tqdm.pandas()\n",
    "\n",
    "import  warnings\n",
    "warnings.filterwarnings(\"ignore\")"
   ]
  },
  {
   "cell_type": "markdown",
   "id": "8b3b6c16",
   "metadata": {},
   "source": [
    "# Unzipping and Checking the Format of the files"
   ]
  },
  {
   "cell_type": "code",
   "execution_count": 5,
   "id": "0df5a9e9",
   "metadata": {},
   "outputs": [],
   "source": [
    "#Unzipping and Extracting the files\n",
    "zip_doc=zipfile.ZipFile(r\"C:\\Users\\hp\\Desktop\\inmtks\\Projects\\sent_text\\txt_reviews.zip\")\n",
    "zip_doc.extractall(r\"C:\\Users\\hp\\Desktop\\inmtks\\Projects\\sent_text\\txt_reviews\")\n",
    "zip_doc.close()"
   ]
  },
  {
   "cell_type": "code",
   "execution_count": 2,
   "id": "5db6a28f",
   "metadata": {},
   "outputs": [],
   "source": [
    "zip_doc=zipfile.ZipFile(r\"C:\\Users\\hp\\Desktop\\inmtks\\Projects\\sent_text\\txt_reviews.zip\")"
   ]
  },
  {
   "cell_type": "code",
   "execution_count": 3,
   "id": "77864b98",
   "metadata": {},
   "outputs": [
    {
     "name": "stdout",
     "output_type": "stream",
     "text": [
      "No. of files: 568455\n"
     ]
    }
   ],
   "source": [
    "files=os.listdir(r\"C:\\Users\\hp\\Desktop\\inmtks\\Projects\\sent_text\\txt_reviews\")\n",
    "print(\"No. of files:\",len(files))"
   ]
  },
  {
   "cell_type": "code",
   "execution_count": 4,
   "id": "03edf28e",
   "metadata": {},
   "outputs": [
    {
     "data": {
      "text/plain": [
       "'review_1.txt'"
      ]
     },
     "execution_count": 4,
     "metadata": {},
     "output_type": "execute_result"
    }
   ],
   "source": [
    "files[0]"
   ]
  },
  {
   "cell_type": "code",
   "execution_count": 6,
   "id": "5d7a446f",
   "metadata": {},
   "outputs": [
    {
     "name": "stdout",
     "output_type": "stream",
     "text": [
      "<class 'str'>\n"
     ]
    },
    {
     "data": {
      "text/plain": [
       "['ProductId: B001E4KFG0\\n',\n",
       " 'UserId: A3SGXH7AUHU8GW\\n',\n",
       " 'ProfileName: delmartian\\n',\n",
       " 'HelpfulnessNumerator: 1\\n',\n",
       " 'HelpfulnessDenominator: 1\\n',\n",
       " 'Score: 5\\n',\n",
       " 'Time: 1303862400\\n',\n",
       " 'ReviewSummary: Good Quality Dog Food\\n',\n",
       " 'ReviewText: I have bought several of the Vitality canned dog food products and have found them all to be of good quality. The product looks more like a stew than a processed meat and it smells better. My Labrador is finicky and she appreciates this product better than  most.\\n']"
      ]
     },
     "execution_count": 6,
     "metadata": {},
     "output_type": "execute_result"
    }
   ],
   "source": [
    "#Checking the Format of the data in Text file\n",
    "file_1=open(r\"C:\\Users\\hp\\Desktop\\inmtks\\Projects\\sent_text\\txt_reviews\\\\review_1.txt\",\"r\")\n",
    "lines_1=file_1.readlines()\n",
    "print(type(lines_1[0]))\n",
    "lines_1"
   ]
  },
  {
   "cell_type": "markdown",
   "id": "18dd54a1",
   "metadata": {},
   "source": [
    "#  Segregating and Appending the respective data into Lists"
   ]
  },
  {
   "cell_type": "code",
   "execution_count": 13,
   "id": "88465179",
   "metadata": {},
   "outputs": [],
   "source": [
    "#Segregating the Data in appropraite way\n",
    "product_id=[]\n",
    "user_id=[]\n",
    "p_name=[]\n",
    "help_num=[]\n",
    "help_den=[]\n",
    "score=[]\n",
    "time=[]\n",
    "r_summary=[]\n",
    "r_text=[]\n",
    "\n",
    "for file in zip_doc.namelist():\n",
    "    file=open(r\"C:\\Users\\hp\\Desktop\\inmtks\\Projects\\sent_text\\txt_reviews\\\\\"+file,\"r\",encoding=\"utf-8\")\n",
    "    lines=file.readlines()\n",
    "    product_id.append(lines[0].split(\":\")[1].strip(\"\\n\"))\n",
    "    user_id.append(lines[1].split(\":\")[1].strip(\"\\n\"))\n",
    "    p_name.append(lines[2].split(\":\")[1].strip(\"\\n\"))\n",
    "    help_num.append(lines[3].split(\":\")[1].strip(\"\\n\"))\n",
    "    help_den.append(lines[4].split(\":\")[1].strip(\"\\n\"))\n",
    "    score.append(lines[5].split(\":\")[1].strip(\"\\n\"))\n",
    "    time.append(lines[6].split(\":\")[1].strip(\"\\n\"))\n",
    "    r_summary.append(lines[7].split(\":\")[1].strip(\"\\n\"))\n",
    "    r_text.append(lines[8].split(\":\")[1].strip(\"\\n\"))\n",
    "    \n",
    "    "
   ]
  },
  {
   "cell_type": "code",
   "execution_count": 14,
   "id": "f213a8aa",
   "metadata": {},
   "outputs": [
    {
     "name": "stdout",
     "output_type": "stream",
     "text": [
      "568454\n",
      "568454\n",
      "568454\n",
      "568454\n",
      "568454\n",
      "568454\n",
      "568454\n",
      "568454\n",
      "568454\n"
     ]
    }
   ],
   "source": [
    "print(len(product_id),len(user_id),len(p_name),len(help_num),len(help_den),len(score),len(time),len(r_summary),\n",
    "      len(r_text),sep=\"\\n\")"
   ]
  },
  {
   "cell_type": "markdown",
   "id": "822741fa",
   "metadata": {},
   "source": [
    "# Creating DataFrame"
   ]
  },
  {
   "cell_type": "code",
   "execution_count": 22,
   "id": "3025c856",
   "metadata": {},
   "outputs": [
    {
     "data": {
      "text/html": [
       "<div>\n",
       "<style scoped>\n",
       "    .dataframe tbody tr th:only-of-type {\n",
       "        vertical-align: middle;\n",
       "    }\n",
       "\n",
       "    .dataframe tbody tr th {\n",
       "        vertical-align: top;\n",
       "    }\n",
       "\n",
       "    .dataframe thead th {\n",
       "        text-align: right;\n",
       "    }\n",
       "</style>\n",
       "<table border=\"1\" class=\"dataframe\">\n",
       "  <thead>\n",
       "    <tr style=\"text-align: right;\">\n",
       "      <th></th>\n",
       "      <th>ProductId</th>\n",
       "      <th>UserId</th>\n",
       "      <th>ProfileName</th>\n",
       "      <th>HelpfulnessNumerator</th>\n",
       "      <th>HelpfulnessDenominator</th>\n",
       "      <th>Score</th>\n",
       "      <th>Time</th>\n",
       "      <th>ReviewSummary</th>\n",
       "      <th>ReviewText</th>\n",
       "    </tr>\n",
       "  </thead>\n",
       "  <tbody>\n",
       "    <tr>\n",
       "      <th>0</th>\n",
       "      <td>B001E4KFG0</td>\n",
       "      <td>A3SGXH7AUHU8GW</td>\n",
       "      <td>delmartian</td>\n",
       "      <td>1</td>\n",
       "      <td>1</td>\n",
       "      <td>5</td>\n",
       "      <td>1303862400</td>\n",
       "      <td>Good Quality Dog Food</td>\n",
       "      <td>I have bought several of the Vitality canned ...</td>\n",
       "    </tr>\n",
       "    <tr>\n",
       "      <th>1</th>\n",
       "      <td>B00171APVA</td>\n",
       "      <td>A21BT40VZCCYT4</td>\n",
       "      <td>Carol A. Reed</td>\n",
       "      <td>0</td>\n",
       "      <td>0</td>\n",
       "      <td>5</td>\n",
       "      <td>1351209600</td>\n",
       "      <td>Healthy Dog Food</td>\n",
       "      <td>This is a very healthy dog food. Good for the...</td>\n",
       "    </tr>\n",
       "    <tr>\n",
       "      <th>2</th>\n",
       "      <td>B0019CW0HE</td>\n",
       "      <td>A2P6ACFZ8FTNVV</td>\n",
       "      <td>Melissa Benjamin</td>\n",
       "      <td>0</td>\n",
       "      <td>1</td>\n",
       "      <td>1</td>\n",
       "      <td>1331164800</td>\n",
       "      <td>Bad</td>\n",
       "      <td>I fed this to my Golden Retriever and he hate...</td>\n",
       "    </tr>\n",
       "    <tr>\n",
       "      <th>3</th>\n",
       "      <td>B006F2NYI2</td>\n",
       "      <td>A132DJVI37RB4X</td>\n",
       "      <td>Scottdrum</td>\n",
       "      <td>2</td>\n",
       "      <td>5</td>\n",
       "      <td>2</td>\n",
       "      <td>1332374400</td>\n",
       "      <td>Not hot, not habanero</td>\n",
       "      <td>I have to admit, I was a sucker for the large...</td>\n",
       "    </tr>\n",
       "    <tr>\n",
       "      <th>4</th>\n",
       "      <td>B000P41A28</td>\n",
       "      <td>A82WIMR4RSVLI</td>\n",
       "      <td>Emrose mom</td>\n",
       "      <td>0</td>\n",
       "      <td>1</td>\n",
       "      <td>4</td>\n",
       "      <td>1337472000</td>\n",
       "      <td>The best weve tried so far</td>\n",
       "      <td>We have a 7 week old... He had gas and consti...</td>\n",
       "    </tr>\n",
       "    <tr>\n",
       "      <th>...</th>\n",
       "      <td>...</td>\n",
       "      <td>...</td>\n",
       "      <td>...</td>\n",
       "      <td>...</td>\n",
       "      <td>...</td>\n",
       "      <td>...</td>\n",
       "      <td>...</td>\n",
       "      <td>...</td>\n",
       "      <td>...</td>\n",
       "    </tr>\n",
       "    <tr>\n",
       "      <th>568449</th>\n",
       "      <td>B000LQORDE</td>\n",
       "      <td>AL22WN8RBBOW7</td>\n",
       "      <td>LifeInTheCity \"trogg\"</td>\n",
       "      <td>2</td>\n",
       "      <td>5</td>\n",
       "      <td>5</td>\n",
       "      <td>1256428800</td>\n",
       "      <td>Good Stuff</td>\n",
       "      <td>I love these noodle.  A little to spicy for t...</td>\n",
       "    </tr>\n",
       "    <tr>\n",
       "      <th>568450</th>\n",
       "      <td>B000LQORDE</td>\n",
       "      <td>A2P7HIRYYWVOBD</td>\n",
       "      <td>Mason</td>\n",
       "      <td>2</td>\n",
       "      <td>5</td>\n",
       "      <td>5</td>\n",
       "      <td>1254096000</td>\n",
       "      <td>yummy!</td>\n",
       "      <td>I just love it and will buy another box when ...</td>\n",
       "    </tr>\n",
       "    <tr>\n",
       "      <th>568451</th>\n",
       "      <td>B000LQORDE</td>\n",
       "      <td>A1K0ZH5MQFBA77</td>\n",
       "      <td>jennilight</td>\n",
       "      <td>2</td>\n",
       "      <td>5</td>\n",
       "      <td>4</td>\n",
       "      <td>1250985600</td>\n",
       "      <td>Tastes like More!</td>\n",
       "      <td>My late father in law used to have a rating s...</td>\n",
       "    </tr>\n",
       "    <tr>\n",
       "      <th>568452</th>\n",
       "      <td>B000LQORDE</td>\n",
       "      <td>A29FRN2O7LWINL</td>\n",
       "      <td>T. Tsai</td>\n",
       "      <td>2</td>\n",
       "      <td>5</td>\n",
       "      <td>5</td>\n",
       "      <td>1237766400</td>\n",
       "      <td>Great ramen</td>\n",
       "      <td>This is my favorite brand of Korean ramen. It...</td>\n",
       "    </tr>\n",
       "    <tr>\n",
       "      <th>568453</th>\n",
       "      <td>B000LQORDE</td>\n",
       "      <td>A9Q950IPXJR1D</td>\n",
       "      <td>Lynda \"casual customer\"</td>\n",
       "      <td>2</td>\n",
       "      <td>5</td>\n",
       "      <td>4</td>\n",
       "      <td>1237161600</td>\n",
       "      <td>Spicy!!</td>\n",
       "      <td>I do like these noodles although, to say they...</td>\n",
       "    </tr>\n",
       "  </tbody>\n",
       "</table>\n",
       "<p>568454 rows × 9 columns</p>\n",
       "</div>"
      ],
      "text/plain": [
       "          ProductId           UserId               ProfileName  \\\n",
       "0        B001E4KFG0   A3SGXH7AUHU8GW                delmartian   \n",
       "1        B00171APVA   A21BT40VZCCYT4             Carol A. Reed   \n",
       "2        B0019CW0HE   A2P6ACFZ8FTNVV          Melissa Benjamin   \n",
       "3        B006F2NYI2   A132DJVI37RB4X                 Scottdrum   \n",
       "4        B000P41A28    A82WIMR4RSVLI                Emrose mom   \n",
       "...             ...              ...                       ...   \n",
       "568449   B000LQORDE    AL22WN8RBBOW7     LifeInTheCity \"trogg\"   \n",
       "568450   B000LQORDE   A2P7HIRYYWVOBD                     Mason   \n",
       "568451   B000LQORDE   A1K0ZH5MQFBA77                jennilight   \n",
       "568452   B000LQORDE   A29FRN2O7LWINL                   T. Tsai   \n",
       "568453   B000LQORDE    A9Q950IPXJR1D   Lynda \"casual customer\"   \n",
       "\n",
       "       HelpfulnessNumerator HelpfulnessDenominator Score         Time  \\\n",
       "0                         1                      1     5   1303862400   \n",
       "1                         0                      0     5   1351209600   \n",
       "2                         0                      1     1   1331164800   \n",
       "3                         2                      5     2   1332374400   \n",
       "4                         0                      1     4   1337472000   \n",
       "...                     ...                    ...   ...          ...   \n",
       "568449                    2                      5     5   1256428800   \n",
       "568450                    2                      5     5   1254096000   \n",
       "568451                    2                      5     4   1250985600   \n",
       "568452                    2                      5     5   1237766400   \n",
       "568453                    2                      5     4   1237161600   \n",
       "\n",
       "                      ReviewSummary  \\\n",
       "0             Good Quality Dog Food   \n",
       "1                  Healthy Dog Food   \n",
       "2                               Bad   \n",
       "3             Not hot, not habanero   \n",
       "4        The best weve tried so far   \n",
       "...                             ...   \n",
       "568449                   Good Stuff   \n",
       "568450                       yummy!   \n",
       "568451            Tastes like More!   \n",
       "568452                  Great ramen   \n",
       "568453                      Spicy!!   \n",
       "\n",
       "                                               ReviewText  \n",
       "0        I have bought several of the Vitality canned ...  \n",
       "1        This is a very healthy dog food. Good for the...  \n",
       "2        I fed this to my Golden Retriever and he hate...  \n",
       "3        I have to admit, I was a sucker for the large...  \n",
       "4        We have a 7 week old... He had gas and consti...  \n",
       "...                                                   ...  \n",
       "568449   I love these noodle.  A little to spicy for t...  \n",
       "568450   I just love it and will buy another box when ...  \n",
       "568451   My late father in law used to have a rating s...  \n",
       "568452   This is my favorite brand of Korean ramen. It...  \n",
       "568453   I do like these noodles although, to say they...  \n",
       "\n",
       "[568454 rows x 9 columns]"
      ]
     },
     "execution_count": 22,
     "metadata": {},
     "output_type": "execute_result"
    }
   ],
   "source": [
    "#Creating the Data frame\n",
    "df=pd.DataFrame({\"ProductId\":product_id,\n",
    "                 \"UserId\":user_id,\n",
    "                 \"ProfileName\":p_name,\n",
    "                 \"HelpfulnessNumerator\":help_num,\n",
    "                 \"HelpfulnessDenominator\":help_den,\n",
    "                 \"Score\":score,\n",
    "                 \"Time\":time,\n",
    "                 \"ReviewSummary\":r_summary,\n",
    "                 \"ReviewText\":r_text})\n",
    "df"
   ]
  },
  {
   "cell_type": "markdown",
   "id": "34adfb17",
   "metadata": {},
   "source": [
    "# Saving The DataFrame"
   ]
  },
  {
   "cell_type": "code",
   "execution_count": 23,
   "id": "ea64bf95",
   "metadata": {},
   "outputs": [],
   "source": [
    "#saving the DataFrame in to .CSV file\n",
    "df.to_csv(r\"C:\\Users\\hp\\Desktop\\inmtks\\Projects\\sent_text\\review.csv\",index=False)"
   ]
  },
  {
   "cell_type": "code",
   "execution_count": 26,
   "id": "fe059cb3",
   "metadata": {},
   "outputs": [
    {
     "name": "stdout",
     "output_type": "stream",
     "text": [
      "<class 'pandas.core.frame.DataFrame'>\n",
      "RangeIndex: 568454 entries, 0 to 568453\n",
      "Data columns (total 9 columns):\n",
      " #   Column                  Non-Null Count   Dtype \n",
      "---  ------                  --------------   ----- \n",
      " 0   ProductId               568454 non-null  object\n",
      " 1   UserId                  568454 non-null  object\n",
      " 2   ProfileName             568454 non-null  object\n",
      " 3   HelpfulnessNumerator    568454 non-null  object\n",
      " 4   HelpfulnessDenominator  568454 non-null  object\n",
      " 5   Score                   568454 non-null  object\n",
      " 6   Time                    568454 non-null  object\n",
      " 7   ReviewSummary           568454 non-null  object\n",
      " 8   ReviewText              568454 non-null  object\n",
      "dtypes: object(9)\n",
      "memory usage: 39.0+ MB\n"
     ]
    }
   ],
   "source": [
    "df.info()"
   ]
  },
  {
   "cell_type": "markdown",
   "id": "3ccb37d0",
   "metadata": {},
   "source": [
    "# Data Cleaning"
   ]
  },
  {
   "cell_type": "code",
   "execution_count": 27,
   "id": "d49f28d5",
   "metadata": {},
   "outputs": [
    {
     "data": {
      "text/html": [
       "<div>\n",
       "<style scoped>\n",
       "    .dataframe tbody tr th:only-of-type {\n",
       "        vertical-align: middle;\n",
       "    }\n",
       "\n",
       "    .dataframe tbody tr th {\n",
       "        vertical-align: top;\n",
       "    }\n",
       "\n",
       "    .dataframe thead th {\n",
       "        text-align: right;\n",
       "    }\n",
       "</style>\n",
       "<table border=\"1\" class=\"dataframe\">\n",
       "  <thead>\n",
       "    <tr style=\"text-align: right;\">\n",
       "      <th></th>\n",
       "      <th>ProductId</th>\n",
       "      <th>UserId</th>\n",
       "      <th>ProfileName</th>\n",
       "      <th>HelpfulnessNumerator</th>\n",
       "      <th>HelpfulnessDenominator</th>\n",
       "      <th>Score</th>\n",
       "      <th>Time</th>\n",
       "      <th>ReviewSummary</th>\n",
       "      <th>ReviewText</th>\n",
       "    </tr>\n",
       "  </thead>\n",
       "  <tbody>\n",
       "    <tr>\n",
       "      <th>count</th>\n",
       "      <td>568454</td>\n",
       "      <td>568454</td>\n",
       "      <td>568454</td>\n",
       "      <td>568454</td>\n",
       "      <td>568454</td>\n",
       "      <td>568454</td>\n",
       "      <td>568454</td>\n",
       "      <td>568454</td>\n",
       "      <td>568454</td>\n",
       "    </tr>\n",
       "    <tr>\n",
       "      <th>unique</th>\n",
       "      <td>74258</td>\n",
       "      <td>256059</td>\n",
       "      <td>218402</td>\n",
       "      <td>231</td>\n",
       "      <td>234</td>\n",
       "      <td>5</td>\n",
       "      <td>3168</td>\n",
       "      <td>295249</td>\n",
       "      <td>391202</td>\n",
       "    </tr>\n",
       "    <tr>\n",
       "      <th>top</th>\n",
       "      <td>B007JFMH8M</td>\n",
       "      <td>A3OXHLG6DIBRW8</td>\n",
       "      <td>C. F. Hill \"CFH\"</td>\n",
       "      <td>0</td>\n",
       "      <td>0</td>\n",
       "      <td>5</td>\n",
       "      <td>1350345600</td>\n",
       "      <td>Delicious!</td>\n",
       "      <td>&lt;a href=\"http</td>\n",
       "    </tr>\n",
       "    <tr>\n",
       "      <th>freq</th>\n",
       "      <td>913</td>\n",
       "      <td>448</td>\n",
       "      <td>451</td>\n",
       "      <td>303826</td>\n",
       "      <td>270052</td>\n",
       "      <td>363122</td>\n",
       "      <td>1143</td>\n",
       "      <td>2462</td>\n",
       "      <td>1446</td>\n",
       "    </tr>\n",
       "  </tbody>\n",
       "</table>\n",
       "</div>"
      ],
      "text/plain": [
       "          ProductId           UserId        ProfileName HelpfulnessNumerator  \\\n",
       "count        568454           568454             568454               568454   \n",
       "unique        74258           256059             218402                  231   \n",
       "top      B007JFMH8M   A3OXHLG6DIBRW8   C. F. Hill \"CFH\"                    0   \n",
       "freq            913              448                451               303826   \n",
       "\n",
       "       HelpfulnessDenominator   Score         Time ReviewSummary  \\\n",
       "count                  568454  568454       568454        568454   \n",
       "unique                    234       5         3168        295249   \n",
       "top                         0       5   1350345600    Delicious!   \n",
       "freq                   270052  363122         1143          2462   \n",
       "\n",
       "            ReviewText  \n",
       "count           568454  \n",
       "unique          391202  \n",
       "top      <a href=\"http  \n",
       "freq              1446  "
      ]
     },
     "execution_count": 27,
     "metadata": {},
     "output_type": "execute_result"
    }
   ],
   "source": [
    "df.describe()"
   ]
  },
  {
   "cell_type": "code",
   "execution_count": 28,
   "id": "3ef77b60",
   "metadata": {},
   "outputs": [
    {
     "data": {
      "text/plain": [
       "287"
      ]
     },
     "execution_count": 28,
     "metadata": {},
     "output_type": "execute_result"
    }
   ],
   "source": [
    "#checking the Duplicates\n",
    "df.duplicated().sum()"
   ]
  },
  {
   "cell_type": "code",
   "execution_count": 29,
   "id": "88f64adf",
   "metadata": {},
   "outputs": [
    {
     "data": {
      "text/plain": [
       "0"
      ]
     },
     "execution_count": 29,
     "metadata": {},
     "output_type": "execute_result"
    }
   ],
   "source": [
    "df.drop_duplicates(inplace=True)\n",
    "df.duplicated().sum()"
   ]
  },
  {
   "cell_type": "code",
   "execution_count": 30,
   "id": "48cf8e47",
   "metadata": {},
   "outputs": [
    {
     "data": {
      "text/plain": [
       "ProductId                 0\n",
       "UserId                    0\n",
       "ProfileName               0\n",
       "HelpfulnessNumerator      0\n",
       "HelpfulnessDenominator    0\n",
       "Score                     0\n",
       "Time                      0\n",
       "ReviewSummary             0\n",
       "ReviewText                0\n",
       "dtype: int64"
      ]
     },
     "execution_count": 30,
     "metadata": {},
     "output_type": "execute_result"
    }
   ],
   "source": [
    "#Dealing with Null values\n",
    "df.isnull().sum()"
   ]
  },
  {
   "cell_type": "code",
   "execution_count": 44,
   "id": "6db4b025",
   "metadata": {},
   "outputs": [],
   "source": [
    "#Dealing with columns and respective datatypes\n",
    "df[\"HelpfulnessNumerator\"]=df[\"HelpfulnessNumerator\"].astype(\"int64\")\n",
    "df[\"HelpfulnessDenominator\"]=df[\"HelpfulnessDenominator\"].astype(\"int64\")\n",
    "df[\"Score\"]=df[\"Score\"].astype(\"int64\")\n",
    "df[\"Time\"]=df[\"Time\"].astype(\"int64\")"
   ]
  },
  {
   "cell_type": "code",
   "execution_count": null,
   "id": "7b5a38c4",
   "metadata": {},
   "outputs": [],
   "source": [
    "df[\"Time\"]=df[\"Time\"].apply(lambda x:\" \".join(re.findall(\"(.*)T\",datetime.fromtimestamp(x).isoformat())))"
   ]
  },
  {
   "cell_type": "code",
   "execution_count": 55,
   "id": "7eb2c5ea",
   "metadata": {},
   "outputs": [],
   "source": [
    "df[\"Time\"]=pd.to_datetime(df[\"Time\"])"
   ]
  },
  {
   "cell_type": "code",
   "execution_count": 46,
   "id": "545d8795",
   "metadata": {},
   "outputs": [],
   "source": [
    "#Creating new columns from existing columns\n",
    "df[\"Helpfulness\"]=((df.HelpfulnessNumerator/df.HelpfulnessDenominator)*100).astype(\"float\")"
   ]
  },
  {
   "cell_type": "code",
   "execution_count": 48,
   "id": "1aaa6a53",
   "metadata": {},
   "outputs": [],
   "source": [
    "df[\"Helpfulness\"]=df.Helpfulness.fillna(0)"
   ]
  },
  {
   "cell_type": "code",
   "execution_count": 49,
   "id": "299b9552",
   "metadata": {},
   "outputs": [
    {
     "data": {
      "text/html": [
       "<div>\n",
       "<style scoped>\n",
       "    .dataframe tbody tr th:only-of-type {\n",
       "        vertical-align: middle;\n",
       "    }\n",
       "\n",
       "    .dataframe tbody tr th {\n",
       "        vertical-align: top;\n",
       "    }\n",
       "\n",
       "    .dataframe thead th {\n",
       "        text-align: right;\n",
       "    }\n",
       "</style>\n",
       "<table border=\"1\" class=\"dataframe\">\n",
       "  <thead>\n",
       "    <tr style=\"text-align: right;\">\n",
       "      <th></th>\n",
       "      <th>ProductId</th>\n",
       "      <th>UserId</th>\n",
       "      <th>ProfileName</th>\n",
       "      <th>HelpfulnessNumerator</th>\n",
       "      <th>HelpfulnessDenominator</th>\n",
       "      <th>Score</th>\n",
       "      <th>Time</th>\n",
       "      <th>ReviewSummary</th>\n",
       "      <th>ReviewText</th>\n",
       "      <th>Helpfulness</th>\n",
       "    </tr>\n",
       "  </thead>\n",
       "  <tbody>\n",
       "    <tr>\n",
       "      <th>0</th>\n",
       "      <td>B001E4KFG0</td>\n",
       "      <td>A3SGXH7AUHU8GW</td>\n",
       "      <td>delmartian</td>\n",
       "      <td>1</td>\n",
       "      <td>1</td>\n",
       "      <td>5</td>\n",
       "      <td>1303862400000000000</td>\n",
       "      <td>Good Quality Dog Food</td>\n",
       "      <td>I have bought several of the Vitality canned ...</td>\n",
       "      <td>100.0</td>\n",
       "    </tr>\n",
       "    <tr>\n",
       "      <th>1</th>\n",
       "      <td>B00171APVA</td>\n",
       "      <td>A21BT40VZCCYT4</td>\n",
       "      <td>Carol A. Reed</td>\n",
       "      <td>0</td>\n",
       "      <td>0</td>\n",
       "      <td>5</td>\n",
       "      <td>1351209600000000000</td>\n",
       "      <td>Healthy Dog Food</td>\n",
       "      <td>This is a very healthy dog food. Good for the...</td>\n",
       "      <td>0.0</td>\n",
       "    </tr>\n",
       "    <tr>\n",
       "      <th>2</th>\n",
       "      <td>B0019CW0HE</td>\n",
       "      <td>A2P6ACFZ8FTNVV</td>\n",
       "      <td>Melissa Benjamin</td>\n",
       "      <td>0</td>\n",
       "      <td>1</td>\n",
       "      <td>1</td>\n",
       "      <td>1331164800000000000</td>\n",
       "      <td>Bad</td>\n",
       "      <td>I fed this to my Golden Retriever and he hate...</td>\n",
       "      <td>0.0</td>\n",
       "    </tr>\n",
       "    <tr>\n",
       "      <th>3</th>\n",
       "      <td>B006F2NYI2</td>\n",
       "      <td>A132DJVI37RB4X</td>\n",
       "      <td>Scottdrum</td>\n",
       "      <td>2</td>\n",
       "      <td>5</td>\n",
       "      <td>2</td>\n",
       "      <td>1332374400000000000</td>\n",
       "      <td>Not hot, not habanero</td>\n",
       "      <td>I have to admit, I was a sucker for the large...</td>\n",
       "      <td>40.0</td>\n",
       "    </tr>\n",
       "    <tr>\n",
       "      <th>4</th>\n",
       "      <td>B000P41A28</td>\n",
       "      <td>A82WIMR4RSVLI</td>\n",
       "      <td>Emrose mom</td>\n",
       "      <td>0</td>\n",
       "      <td>1</td>\n",
       "      <td>4</td>\n",
       "      <td>1337472000000000000</td>\n",
       "      <td>The best weve tried so far</td>\n",
       "      <td>We have a 7 week old... He had gas and consti...</td>\n",
       "      <td>0.0</td>\n",
       "    </tr>\n",
       "  </tbody>\n",
       "</table>\n",
       "</div>"
      ],
      "text/plain": [
       "     ProductId           UserId        ProfileName  HelpfulnessNumerator  \\\n",
       "0   B001E4KFG0   A3SGXH7AUHU8GW         delmartian                     1   \n",
       "1   B00171APVA   A21BT40VZCCYT4      Carol A. Reed                     0   \n",
       "2   B0019CW0HE   A2P6ACFZ8FTNVV   Melissa Benjamin                     0   \n",
       "3   B006F2NYI2   A132DJVI37RB4X          Scottdrum                     2   \n",
       "4   B000P41A28    A82WIMR4RSVLI         Emrose mom                     0   \n",
       "\n",
       "   HelpfulnessDenominator  Score                 Time  \\\n",
       "0                       1      5  1303862400000000000   \n",
       "1                       0      5  1351209600000000000   \n",
       "2                       1      1  1331164800000000000   \n",
       "3                       5      2  1332374400000000000   \n",
       "4                       1      4  1337472000000000000   \n",
       "\n",
       "                 ReviewSummary  \\\n",
       "0        Good Quality Dog Food   \n",
       "1             Healthy Dog Food   \n",
       "2                          Bad   \n",
       "3        Not hot, not habanero   \n",
       "4   The best weve tried so far   \n",
       "\n",
       "                                          ReviewText  Helpfulness  \n",
       "0   I have bought several of the Vitality canned ...        100.0  \n",
       "1   This is a very healthy dog food. Good for the...          0.0  \n",
       "2   I fed this to my Golden Retriever and he hate...          0.0  \n",
       "3   I have to admit, I was a sucker for the large...         40.0  \n",
       "4   We have a 7 week old... He had gas and consti...          0.0  "
      ]
     },
     "execution_count": 49,
     "metadata": {},
     "output_type": "execute_result"
    }
   ],
   "source": [
    "df.head()"
   ]
  },
  {
   "cell_type": "code",
   "execution_count": 56,
   "id": "c2bb607e",
   "metadata": {},
   "outputs": [
    {
     "name": "stdout",
     "output_type": "stream",
     "text": [
      "<class 'pandas.core.frame.DataFrame'>\n",
      "Int64Index: 568167 entries, 0 to 568453\n",
      "Data columns (total 10 columns):\n",
      " #   Column                  Non-Null Count   Dtype         \n",
      "---  ------                  --------------   -----         \n",
      " 0   ProductId               568167 non-null  object        \n",
      " 1   UserId                  568167 non-null  object        \n",
      " 2   ProfileName             568167 non-null  object        \n",
      " 3   HelpfulnessNumerator    568167 non-null  int64         \n",
      " 4   HelpfulnessDenominator  568167 non-null  int64         \n",
      " 5   Score                   568167 non-null  int64         \n",
      " 6   Time                    568167 non-null  datetime64[ns]\n",
      " 7   ReviewSummary           568167 non-null  object        \n",
      " 8   ReviewText              568167 non-null  object        \n",
      " 9   Helpfulness             568167 non-null  float64       \n",
      "dtypes: datetime64[ns](1), float64(1), int64(3), object(5)\n",
      "memory usage: 47.7+ MB\n"
     ]
    }
   ],
   "source": [
    "df.info()"
   ]
  },
  {
   "cell_type": "code",
   "execution_count": 58,
   "id": "9382b866",
   "metadata": {},
   "outputs": [
    {
     "data": {
      "text/html": [
       "<div>\n",
       "<style scoped>\n",
       "    .dataframe tbody tr th:only-of-type {\n",
       "        vertical-align: middle;\n",
       "    }\n",
       "\n",
       "    .dataframe tbody tr th {\n",
       "        vertical-align: top;\n",
       "    }\n",
       "\n",
       "    .dataframe thead th {\n",
       "        text-align: right;\n",
       "    }\n",
       "</style>\n",
       "<table border=\"1\" class=\"dataframe\">\n",
       "  <thead>\n",
       "    <tr style=\"text-align: right;\">\n",
       "      <th></th>\n",
       "      <th>HelpfulnessNumerator</th>\n",
       "      <th>HelpfulnessDenominator</th>\n",
       "      <th>Score</th>\n",
       "      <th>Helpfulness</th>\n",
       "    </tr>\n",
       "  </thead>\n",
       "  <tbody>\n",
       "    <tr>\n",
       "      <th>count</th>\n",
       "      <td>568167.000000</td>\n",
       "      <td>568167.000000</td>\n",
       "      <td>568167.000000</td>\n",
       "      <td>568167.000000</td>\n",
       "    </tr>\n",
       "    <tr>\n",
       "      <th>mean</th>\n",
       "      <td>1.744225</td>\n",
       "      <td>2.229264</td>\n",
       "      <td>4.183208</td>\n",
       "      <td>40.797915</td>\n",
       "    </tr>\n",
       "    <tr>\n",
       "      <th>std</th>\n",
       "      <td>7.638188</td>\n",
       "      <td>8.291425</td>\n",
       "      <td>1.310391</td>\n",
       "      <td>46.208277</td>\n",
       "    </tr>\n",
       "    <tr>\n",
       "      <th>min</th>\n",
       "      <td>0.000000</td>\n",
       "      <td>0.000000</td>\n",
       "      <td>1.000000</td>\n",
       "      <td>0.000000</td>\n",
       "    </tr>\n",
       "    <tr>\n",
       "      <th>25%</th>\n",
       "      <td>0.000000</td>\n",
       "      <td>0.000000</td>\n",
       "      <td>4.000000</td>\n",
       "      <td>0.000000</td>\n",
       "    </tr>\n",
       "    <tr>\n",
       "      <th>50%</th>\n",
       "      <td>0.000000</td>\n",
       "      <td>1.000000</td>\n",
       "      <td>5.000000</td>\n",
       "      <td>0.000000</td>\n",
       "    </tr>\n",
       "    <tr>\n",
       "      <th>75%</th>\n",
       "      <td>2.000000</td>\n",
       "      <td>2.000000</td>\n",
       "      <td>5.000000</td>\n",
       "      <td>100.000000</td>\n",
       "    </tr>\n",
       "    <tr>\n",
       "      <th>max</th>\n",
       "      <td>866.000000</td>\n",
       "      <td>923.000000</td>\n",
       "      <td>5.000000</td>\n",
       "      <td>300.000000</td>\n",
       "    </tr>\n",
       "  </tbody>\n",
       "</table>\n",
       "</div>"
      ],
      "text/plain": [
       "       HelpfulnessNumerator  HelpfulnessDenominator          Score  \\\n",
       "count         568167.000000           568167.000000  568167.000000   \n",
       "mean               1.744225                2.229264       4.183208   \n",
       "std                7.638188                8.291425       1.310391   \n",
       "min                0.000000                0.000000       1.000000   \n",
       "25%                0.000000                0.000000       4.000000   \n",
       "50%                0.000000                1.000000       5.000000   \n",
       "75%                2.000000                2.000000       5.000000   \n",
       "max              866.000000              923.000000       5.000000   \n",
       "\n",
       "         Helpfulness  \n",
       "count  568167.000000  \n",
       "mean       40.797915  \n",
       "std        46.208277  \n",
       "min         0.000000  \n",
       "25%         0.000000  \n",
       "50%         0.000000  \n",
       "75%       100.000000  \n",
       "max       300.000000  "
      ]
     },
     "execution_count": 58,
     "metadata": {},
     "output_type": "execute_result"
    }
   ],
   "source": [
    "df.describe()"
   ]
  },
  {
   "cell_type": "code",
   "execution_count": 57,
   "id": "9c9e17bb",
   "metadata": {},
   "outputs": [],
   "source": [
    "#saving the Cleaned DataFrame into .CSV file\n",
    "df.to_csv(r\"C:\\Users\\hp\\Desktop\\inmtks\\Projects\\sent_text\\review_cleaned.csv\",index=False)"
   ]
  },
  {
   "cell_type": "markdown",
   "id": "8a9be4aa",
   "metadata": {},
   "source": [
    "# Data Preprocessing"
   ]
  },
  {
   "cell_type": "code",
   "execution_count": 101,
   "id": "eb8ebab1",
   "metadata": {},
   "outputs": [],
   "source": [
    "#Creating the objects\n",
    "stemmer=PorterStemmer()\n",
    "lemma=WordNetLemmatizer()"
   ]
  },
  {
   "cell_type": "code",
   "execution_count": 89,
   "id": "fb40c4a2",
   "metadata": {},
   "outputs": [],
   "source": [
    "#Defining cle the Data for NLP process\n",
    "def clean_text(doc):\n",
    "    \"\"\"\n",
    "    Cleans the document\n",
    "    \"\"\"\n",
    "    #converting the data in lower case format\n",
    "    doc = doc.lower()\n",
    "    # joining the words and removing the Stopwords\n",
    "    doc = \" \".join([word for word in doc.split() if word not in sw])\n",
    "    #removing unnecessary characters in text\n",
    "    doc = re.sub(r'[^A-z0-9\\s]','',doc)\n",
    "    doc = re.sub(r'_','',doc)\n",
    "    #checking with stopwords\n",
    "    doc = [word for word in doc.split() if word not in sw]\n",
    "    #checking with word corrections and sigularising the words\n",
    "    doc = [Word(x).correct() for x in doc]\n",
    "    doc = [Word(x).singularize() for x in doc]\n",
    "    return \" \".join(doc)"
   ]
  },
  {
   "cell_type": "code",
   "execution_count": null,
   "id": "fc4a1110",
   "metadata": {},
   "outputs": [],
   "source": [
    "# Defining the lematization process and Parts of speech\n",
    "def do_lemma(doc):\n",
    "    doc_list = nltk.pos_tag(doc.split())\n",
    "    r_pos = 'n'\n",
    "    output = []\n",
    "    for word,pos in doc_list:\n",
    "        if pos.startswith('V'):\n",
    "            r_pos = 'v'\n",
    "        elif pos.startswith('R'):\n",
    "            r_pos = 'r'\n",
    "        elif pos.startswith('J'):\n",
    "            r_pos = 'a'\n",
    "        output.append(lemma.lemmatize(word, pos=r_pos))\n",
    "    return \" \".join(output)"
   ]
  },
  {
   "cell_type": "code",
   "execution_count": 90,
   "id": "9f9d324e",
   "metadata": {},
   "outputs": [
    {
     "name": "stderr",
     "output_type": "stream",
     "text": [
      "100%|███████████████████████████████████████████████████████████████████████| 568167/568167 [00:14<00:00, 39675.73it/s]\n"
     ]
    }
   ],
   "source": [
    "#cleaning the \"review summary\"\n",
    "df[\"Clean_summary\"]=df[\"ReviewSummary\"].progress_apply(clean_text)"
   ]
  },
  {
   "cell_type": "code",
   "execution_count": 91,
   "id": "d748e957",
   "metadata": {},
   "outputs": [
    {
     "name": "stderr",
     "output_type": "stream",
     "text": [
      "100%|████████████████████████████████████████████████████████████████████████| 568167/568167 [02:43<00:00, 3479.01it/s]\n"
     ]
    }
   ],
   "source": [
    "#cleaning the \"review text\" \n",
    "df[\"Clean_text\"]=df[\"ReviewText\"].progress_apply(clean_text)"
   ]
  },
  {
   "cell_type": "code",
   "execution_count": 97,
   "id": "a3e062ed",
   "metadata": {},
   "outputs": [
    {
     "name": "stderr",
     "output_type": "stream",
     "text": [
      "100%|████████████████████████████████████████████████████████████████████████| 568167/568167 [07:53<00:00, 1198.84it/s]\n"
     ]
    }
   ],
   "source": [
    "#lemmatizing the \"Clean summary\" \n",
    "df[\"summary_lemma\"]=df[\"Clean_summary\"].progress_apply(do_lemma)"
   ]
  },
  {
   "cell_type": "code",
   "execution_count": 98,
   "id": "682017e6",
   "metadata": {},
   "outputs": [
    {
     "name": "stderr",
     "output_type": "stream",
     "text": [
      "100%|█████████████████████████████████████████████████████████████████████████| 568167/568167 [39:06<00:00, 242.14it/s]\n"
     ]
    }
   ],
   "source": [
    "# Lemmatrzing the \"Clean_text\"\n",
    "df[\"text_lemma\"]=df[\"Clean_text\"].progress_apply(do_lemma)"
   ]
  },
  {
   "cell_type": "code",
   "execution_count": 102,
   "id": "b4fb112d",
   "metadata": {},
   "outputs": [
    {
     "name": "stderr",
     "output_type": "stream",
     "text": [
      "100%|███████████████████████████████████████████████████████████████████████| 568167/568167 [00:46<00:00, 12166.58it/s]\n"
     ]
    }
   ],
   "source": [
    "# Stemming the \"Clean_summary\"\n",
    "df[\"summary_stem\"]=df[\"Clean_summary\"].progress_apply(lambda x :\" \".join([stemmer.stem(i) for i in x.split()]))"
   ]
  },
  {
   "cell_type": "code",
   "execution_count": 103,
   "id": "78ca27df",
   "metadata": {},
   "outputs": [
    {
     "name": "stderr",
     "output_type": "stream",
     "text": [
      "100%|█████████████████████████████████████████████████████████████████████████| 568167/568167 [09:36<00:00, 986.14it/s]\n"
     ]
    }
   ],
   "source": [
    "# Stemming the \"Clean_text\"\n",
    "df[\"text_stem\"]=df[\"Clean_text\"].progress_apply(lambda x :\" \".join([stemmer.stem(i) for i in x.split()]))"
   ]
  },
  {
   "cell_type": "code",
   "execution_count": null,
   "id": "6924b450",
   "metadata": {},
   "outputs": [],
   "source": [
    "# Creating Data frame from Existing Dataframe with Need columns\n",
    "df_1=df[[\"Clean_summary\",\"Clean_text\",\"summary_lemma\",\"text_lemma\",\"summary_stem\",\"text_stem\",\"Score\"]]\n",
    "df_1.head()"
   ]
  },
  {
   "cell_type": "code",
   "execution_count": 5,
   "id": "54931168",
   "metadata": {},
   "outputs": [],
   "source": [
    "#Saving the DataFrame\n",
    "df_1.to_csv(r\"C:\\Users\\hp\\Desktop\\inmtks\\Projects\\sent_text\\review_prepro.csv\",index=False)"
   ]
  },
  {
   "cell_type": "code",
   "execution_count": 3,
   "id": "04140af7",
   "metadata": {},
   "outputs": [
    {
     "data": {
      "text/html": [
       "<div>\n",
       "<style scoped>\n",
       "    .dataframe tbody tr th:only-of-type {\n",
       "        vertical-align: middle;\n",
       "    }\n",
       "\n",
       "    .dataframe tbody tr th {\n",
       "        vertical-align: top;\n",
       "    }\n",
       "\n",
       "    .dataframe thead th {\n",
       "        text-align: right;\n",
       "    }\n",
       "</style>\n",
       "<table border=\"1\" class=\"dataframe\">\n",
       "  <thead>\n",
       "    <tr style=\"text-align: right;\">\n",
       "      <th></th>\n",
       "      <th>Clean_summary</th>\n",
       "      <th>Clean_text</th>\n",
       "      <th>summary_lemma</th>\n",
       "      <th>text_lemma</th>\n",
       "      <th>summary_stem</th>\n",
       "      <th>text_stem</th>\n",
       "      <th>Score</th>\n",
       "    </tr>\n",
       "  </thead>\n",
       "  <tbody>\n",
       "    <tr>\n",
       "      <th>0</th>\n",
       "      <td>good quality dog food</td>\n",
       "      <td>bought several vitality canned dog food produc...</td>\n",
       "      <td>good quality dog food</td>\n",
       "      <td>buy several vitality can dog food products fin...</td>\n",
       "      <td>good qualiti dog food</td>\n",
       "      <td>bought sever vital can dog food product found ...</td>\n",
       "      <td>5</td>\n",
       "    </tr>\n",
       "    <tr>\n",
       "      <th>1</th>\n",
       "      <td>healthy dog food</td>\n",
       "      <td>healthy dog food good digestion also good smal...</td>\n",
       "      <td>healthy dog food</td>\n",
       "      <td>healthy dog food good digestion also good smal...</td>\n",
       "      <td>healthi dog food</td>\n",
       "      <td>healthi dog food good digest also good small p...</td>\n",
       "      <td>5</td>\n",
       "    </tr>\n",
       "    <tr>\n",
       "      <th>2</th>\n",
       "      <td>bad</td>\n",
       "      <td>fed golden retriever hated eat gave terrible d...</td>\n",
       "      <td>bad</td>\n",
       "      <td>feed golden retriever hat eat give terrible di...</td>\n",
       "      <td>bad</td>\n",
       "      <td>fed golden retriev hate eat gave terribl diarr...</td>\n",
       "      <td>1</td>\n",
       "    </tr>\n",
       "    <tr>\n",
       "      <th>3</th>\n",
       "      <td>hot habanero</td>\n",
       "      <td>admit sucker large quantity 12 oz shopping hot...</td>\n",
       "      <td>hot habanero</td>\n",
       "      <td>admit sucker large quantity 12 oz shopping hot...</td>\n",
       "      <td>hot habanero</td>\n",
       "      <td>admit sucker larg quantiti 12 oz shop hot sauc...</td>\n",
       "      <td>2</td>\n",
       "    </tr>\n",
       "    <tr>\n",
       "      <th>4</th>\n",
       "      <td>best weve tried far</td>\n",
       "      <td>7 week old gas constipation problems first 5 w...</td>\n",
       "      <td>best weve try far</td>\n",
       "      <td>7 week old gas constipation problems first 5 w...</td>\n",
       "      <td>best weve tri far</td>\n",
       "      <td>7 week old ga constip problem first 5 week tri...</td>\n",
       "      <td>4</td>\n",
       "    </tr>\n",
       "    <tr>\n",
       "      <th>...</th>\n",
       "      <td>...</td>\n",
       "      <td>...</td>\n",
       "      <td>...</td>\n",
       "      <td>...</td>\n",
       "      <td>...</td>\n",
       "      <td>...</td>\n",
       "      <td>...</td>\n",
       "    </tr>\n",
       "    <tr>\n",
       "      <th>568162</th>\n",
       "      <td>good stuff</td>\n",
       "      <td>love noodle little spicy wife perfct</td>\n",
       "      <td>good stuff</td>\n",
       "      <td>love noodle little spicy wife perfct</td>\n",
       "      <td>good stuff</td>\n",
       "      <td>love noodl littl spici wife perfct</td>\n",
       "      <td>5</td>\n",
       "    </tr>\n",
       "    <tr>\n",
       "      <th>568163</th>\n",
       "      <td>yummy</td>\n",
       "      <td>love buy another box im done last one</td>\n",
       "      <td>yummy</td>\n",
       "      <td>love buy another box im do last one</td>\n",
       "      <td>yummi</td>\n",
       "      <td>love buy anoth box im done last one</td>\n",
       "      <td>5</td>\n",
       "    </tr>\n",
       "    <tr>\n",
       "      <th>568164</th>\n",
       "      <td>tastes like</td>\n",
       "      <td>late father law used rating system meals</td>\n",
       "      <td>taste like</td>\n",
       "      <td>late father law use rat system meals</td>\n",
       "      <td>tast like</td>\n",
       "      <td>late father law use rate system meal</td>\n",
       "      <td>4</td>\n",
       "    </tr>\n",
       "    <tr>\n",
       "      <th>568165</th>\n",
       "      <td>great ramen</td>\n",
       "      <td>favorite brand korean ramen spicy used eating ...</td>\n",
       "      <td>great ramen</td>\n",
       "      <td>favorite brand korean ramen spicy use eat spic...</td>\n",
       "      <td>great ramen</td>\n",
       "      <td>favorit brand korean ramen spici use eat spici...</td>\n",
       "      <td>5</td>\n",
       "    </tr>\n",
       "    <tr>\n",
       "      <th>568166</th>\n",
       "      <td>spicy</td>\n",
       "      <td>like noodles although say spicy somewhat under...</td>\n",
       "      <td>spicy</td>\n",
       "      <td>like noodle although say spicy somewhat unders...</td>\n",
       "      <td>spici</td>\n",
       "      <td>like noodl although say spici somewhat underst...</td>\n",
       "      <td>4</td>\n",
       "    </tr>\n",
       "  </tbody>\n",
       "</table>\n",
       "<p>568167 rows × 7 columns</p>\n",
       "</div>"
      ],
      "text/plain": [
       "                Clean_summary  \\\n",
       "0       good quality dog food   \n",
       "1            healthy dog food   \n",
       "2                         bad   \n",
       "3                hot habanero   \n",
       "4         best weve tried far   \n",
       "...                       ...   \n",
       "568162             good stuff   \n",
       "568163                  yummy   \n",
       "568164            tastes like   \n",
       "568165            great ramen   \n",
       "568166                  spicy   \n",
       "\n",
       "                                               Clean_text  \\\n",
       "0       bought several vitality canned dog food produc...   \n",
       "1       healthy dog food good digestion also good smal...   \n",
       "2       fed golden retriever hated eat gave terrible d...   \n",
       "3       admit sucker large quantity 12 oz shopping hot...   \n",
       "4       7 week old gas constipation problems first 5 w...   \n",
       "...                                                   ...   \n",
       "568162               love noodle little spicy wife perfct   \n",
       "568163              love buy another box im done last one   \n",
       "568164           late father law used rating system meals   \n",
       "568165  favorite brand korean ramen spicy used eating ...   \n",
       "568166  like noodles although say spicy somewhat under...   \n",
       "\n",
       "                summary_lemma  \\\n",
       "0       good quality dog food   \n",
       "1            healthy dog food   \n",
       "2                         bad   \n",
       "3                hot habanero   \n",
       "4           best weve try far   \n",
       "...                       ...   \n",
       "568162             good stuff   \n",
       "568163                  yummy   \n",
       "568164             taste like   \n",
       "568165            great ramen   \n",
       "568166                  spicy   \n",
       "\n",
       "                                               text_lemma  \\\n",
       "0       buy several vitality can dog food products fin...   \n",
       "1       healthy dog food good digestion also good smal...   \n",
       "2       feed golden retriever hat eat give terrible di...   \n",
       "3       admit sucker large quantity 12 oz shopping hot...   \n",
       "4       7 week old gas constipation problems first 5 w...   \n",
       "...                                                   ...   \n",
       "568162               love noodle little spicy wife perfct   \n",
       "568163                love buy another box im do last one   \n",
       "568164               late father law use rat system meals   \n",
       "568165  favorite brand korean ramen spicy use eat spic...   \n",
       "568166  like noodle although say spicy somewhat unders...   \n",
       "\n",
       "                 summary_stem  \\\n",
       "0       good qualiti dog food   \n",
       "1            healthi dog food   \n",
       "2                         bad   \n",
       "3                hot habanero   \n",
       "4           best weve tri far   \n",
       "...                       ...   \n",
       "568162             good stuff   \n",
       "568163                  yummi   \n",
       "568164              tast like   \n",
       "568165            great ramen   \n",
       "568166                  spici   \n",
       "\n",
       "                                                text_stem  Score  \n",
       "0       bought sever vital can dog food product found ...      5  \n",
       "1       healthi dog food good digest also good small p...      5  \n",
       "2       fed golden retriev hate eat gave terribl diarr...      1  \n",
       "3       admit sucker larg quantiti 12 oz shop hot sauc...      2  \n",
       "4       7 week old ga constip problem first 5 week tri...      4  \n",
       "...                                                   ...    ...  \n",
       "568162                 love noodl littl spici wife perfct      5  \n",
       "568163                love buy anoth box im done last one      5  \n",
       "568164               late father law use rate system meal      4  \n",
       "568165  favorit brand korean ramen spici use eat spici...      5  \n",
       "568166  like noodl although say spici somewhat underst...      4  \n",
       "\n",
       "[568167 rows x 7 columns]"
      ]
     },
     "execution_count": 3,
     "metadata": {},
     "output_type": "execute_result"
    }
   ],
   "source": [
    "df_1=pd.read_csv(r\"C:\\Users\\hp\\Desktop\\inmtks\\Projects\\sent_text\\review_prepro.csv\")\n",
    "df_1"
   ]
  },
  {
   "cell_type": "code",
   "execution_count": 4,
   "id": "848915e5",
   "metadata": {},
   "outputs": [
    {
     "data": {
      "text/plain": [
       "Index(['Clean_summary', 'Clean_text', 'summary_lemma', 'text_lemma',\n",
       "       'summary_stem', 'text_stem', 'Score'],\n",
       "      dtype='object')"
      ]
     },
     "execution_count": 4,
     "metadata": {},
     "output_type": "execute_result"
    }
   ],
   "source": [
    "df_1.columns"
   ]
  },
  {
   "cell_type": "code",
   "execution_count": 5,
   "id": "b858526e",
   "metadata": {},
   "outputs": [],
   "source": [
    "# Separating input and output varaibles\n",
    "x=df_1[[\"summary_lemma\",\"text_lemma\"]].fillna(\"\")\n",
    "y=df_1[\"Score\"]"
   ]
  },
  {
   "cell_type": "code",
   "execution_count": 7,
   "id": "13975600",
   "metadata": {},
   "outputs": [
    {
     "name": "stdout",
     "output_type": "stream",
     "text": [
      "(397716, 2) (170451, 2)\n",
      "(397716,) (170451,)\n"
     ]
    }
   ],
   "source": [
    "#Splitting the Train and Test data\n",
    "from sklearn.model_selection import train_test_split\n",
    "X_train,X_test,Y_train,Y_test=train_test_split(x,y,train_size=0.7,random_state=45)\n",
    "\n",
    "#checking with shape \n",
    "print(X_train.shape,X_test.shape)\n",
    "print(Y_train.shape,Y_test.shape)"
   ]
  },
  {
   "cell_type": "markdown",
   "id": "74b8396b",
   "metadata": {},
   "source": [
    "# Performing Bag words"
   ]
  },
  {
   "cell_type": "code",
   "execution_count": 13,
   "id": "3529987f",
   "metadata": {},
   "outputs": [],
   "source": [
    "#creating Bag of words \n",
    "from sklearn.feature_extraction.text import CountVectorizer\n",
    "bow_l=CountVectorizer()\n",
    "bow_s=CountVectorizer()"
   ]
  },
  {
   "cell_type": "code",
   "execution_count": 14,
   "id": "425c4442",
   "metadata": {},
   "outputs": [],
   "source": [
    "#applying the Bag words\n",
    "x_train_bow_l_summary=bow_l.fit_transform(X_train[\"summary_lemma\"])\n",
    "x_train_bow_s_text=bow_s.fit_transform(X_train[\"text_lemma\"])"
   ]
  },
  {
   "cell_type": "code",
   "execution_count": 15,
   "id": "f982a1cf",
   "metadata": {},
   "outputs": [
    {
     "name": "stdout",
     "output_type": "stream",
     "text": [
      "Total unique words: 33994\n",
      "Total unique words: 168382\n"
     ]
    }
   ],
   "source": [
    "#Checking with Total Number of Unique Words \n",
    "print(\"Total unique words:\", len(bow_l.vocabulary_))\n",
    "print(\"Total unique words:\", len(bow_s.vocabulary_))"
   ]
  },
  {
   "cell_type": "code",
   "execution_count": 16,
   "id": "b0d95d1d",
   "metadata": {},
   "outputs": [],
   "source": [
    "x_test_bow_l_summary=bow_l.transform(X_test[\"summary_lemma\"])\n",
    "x_test_bow_s_text=bow_s.transform(X_test[\"text_lemma\"])"
   ]
  },
  {
   "cell_type": "code",
   "execution_count": 17,
   "id": "ec1e4e08",
   "metadata": {},
   "outputs": [],
   "source": [
    "from scipy.sparse import hstack"
   ]
  },
  {
   "cell_type": "code",
   "execution_count": 18,
   "id": "b07a14ec",
   "metadata": {},
   "outputs": [],
   "source": [
    "x_train_trans_1=hstack((x_train_bow_l_summary,x_train_bow_s_text))# stacking the x_train summary and text columns \n",
    "x_test_trans_1=hstack((x_test_bow_l_summary,x_test_bow_s_text))# stacking the x_test summary and text columns "
   ]
  },
  {
   "cell_type": "markdown",
   "id": "0c90d3de",
   "metadata": {},
   "source": [
    "# Model Building "
   ]
  },
  {
   "cell_type": "markdown",
   "id": "3f55b2d0",
   "metadata": {},
   "source": [
    "## Logistic Regression"
   ]
  },
  {
   "cell_type": "code",
   "execution_count": 22,
   "id": "a7ea736c",
   "metadata": {},
   "outputs": [
    {
     "name": "stdout",
     "output_type": "stream",
     "text": [
      "Accurracy: 76.93178684783311\n",
      "Classification Report:\n",
      "               precision    recall  f1-score   support\n",
      "\n",
      "           1       0.70      0.73      0.71     15569\n",
      "           2       0.51      0.34      0.41      9065\n",
      "           3       0.54      0.42      0.47     12935\n",
      "           4       0.56      0.35      0.43     24279\n",
      "           5       0.83      0.95      0.89    108603\n",
      "\n",
      "    accuracy                           0.77    170451\n",
      "   macro avg       0.63      0.56      0.58    170451\n",
      "weighted avg       0.74      0.77      0.75    170451\n",
      "\n"
     ]
    }
   ],
   "source": [
    "#logistic Regression\n",
    "from sklearn.linear_model import LogisticRegression\n",
    "log=LogisticRegression()\n",
    "\n",
    "#Training the model\n",
    "log.fit(x_train_trans_1,Y_train)\n",
    "\n",
    "#Preidict the model\n",
    "y_test_pred=log.predict(x_test_trans_1)\n",
    "\n",
    "#Evaluating the Model\n",
    "from sklearn import metrics\n",
    "lg_score=metrics.accuracy_score(Y_test,y_test_pred)\n",
    "\n",
    "\n",
    "print(\"Accurracy:\",lg_score*100)\n",
    "print(\"Classification Report:\\n\",metrics.classification_report(Y_test,y_test_pred))"
   ]
  },
  {
   "cell_type": "markdown",
   "id": "d72dc145",
   "metadata": {},
   "source": [
    "## Gradient Boosting "
   ]
  },
  {
   "cell_type": "code",
   "execution_count": 27,
   "id": "7d596700",
   "metadata": {},
   "outputs": [
    {
     "name": "stdout",
     "output_type": "stream",
     "text": [
      "Accurracy: 70.89310124317252\n",
      "Classification Report:\n",
      "               precision    recall  f1-score   support\n",
      "\n",
      "           1       0.75      0.41      0.53     15569\n",
      "           2       0.63      0.12      0.20      9065\n",
      "           3       0.63      0.19      0.29     12935\n",
      "           4       0.53      0.18      0.27     24279\n",
      "           5       0.72      0.98      0.83    108603\n",
      "\n",
      "    accuracy                           0.71    170451\n",
      "   macro avg       0.65      0.38      0.43    170451\n",
      "weighted avg       0.68      0.71      0.65    170451\n",
      "\n"
     ]
    }
   ],
   "source": [
    "#Gradient Boost Classifier\n",
    "from sklearn.ensemble import GradientBoostingClassifier\n",
    "gb=GradientBoostingClassifier(learning_rate=0.2)\n",
    "\n",
    "#Training the Model\n",
    "gb.fit(x_train_trans_1,Y_train)\n",
    "\n",
    "#Predicting the Model\n",
    "y_gb_pred=gb.predict(x_test_trans_1)\n",
    "\n",
    "#Evaluating the Model\n",
    "from sklearn import metrics\n",
    "gbc_score=metrics.accuracy_score(Y_test,y_gb_pred)\n",
    "\n",
    "print(\"Accurracy:\",gbc_score*100)\n",
    "print(\"Classification Report:\\n\",metrics.classification_report(Y_test,y_gb_pred))"
   ]
  },
  {
   "cell_type": "markdown",
   "id": "c8f0582e",
   "metadata": {},
   "source": [
    "## AdaBoosting "
   ]
  },
  {
   "cell_type": "code",
   "execution_count": 23,
   "id": "ad8ea405",
   "metadata": {},
   "outputs": [
    {
     "name": "stdout",
     "output_type": "stream",
     "text": [
      "Accurracy: 64.09583986013575\n",
      "Classification Report:\n",
      "               precision    recall  f1-score   support\n",
      "\n",
      "           1       0.86      0.02      0.04     15569\n",
      "           2       0.00      0.00      0.00      9065\n",
      "           3       0.68      0.03      0.06     12935\n",
      "           4       0.50      0.00      0.00     24279\n",
      "           5       0.64      1.00      0.78    108603\n",
      "\n",
      "    accuracy                           0.64    170451\n",
      "   macro avg       0.53      0.21      0.17    170451\n",
      "weighted avg       0.61      0.64      0.51    170451\n",
      "\n"
     ]
    }
   ],
   "source": [
    "#Adboost classifier\n",
    "from sklearn.ensemble import AdaBoostClassifier\n",
    "abg=AdaBoostClassifier(learning_rate=0.2)\n",
    "\n",
    "#Training the Model\n",
    "abg.fit(x_train_trans_1,Y_train)\n",
    "\n",
    "#Predicting the Model\n",
    "y_adb_pred=abg.predict(x_test_trans_1)\n",
    "\n",
    "#Evaluating the Model\n",
    "from sklearn import metrics\n",
    "abg_score=metrics.accuracy_score(Y_test,y_adb_pred)\n",
    "\n",
    "print(\"Accurracy:\",abg_score*100)\n",
    "print(\"Classification Report:\\n\",metrics.classification_report(Y_test,y_adb_pred))"
   ]
  },
  {
   "cell_type": "markdown",
   "id": "9f7c6aaa",
   "metadata": {},
   "source": [
    "## Decision Tree"
   ]
  },
  {
   "cell_type": "code",
   "execution_count": 24,
   "id": "cc3de294",
   "metadata": {},
   "outputs": [
    {
     "name": "stdout",
     "output_type": "stream",
     "text": [
      "Accuracy: 63.77785991281952\n",
      "Classification Report:\n",
      "               precision    recall  f1-score   support\n",
      "\n",
      "           1       0.00      0.00      0.00     15569\n",
      "           2       0.00      0.00      0.00      9065\n",
      "           3       0.00      0.00      0.00     12935\n",
      "           4       0.42      0.02      0.04     24279\n",
      "           5       0.64      1.00      0.78    108603\n",
      "\n",
      "    accuracy                           0.64    170451\n",
      "   macro avg       0.21      0.20      0.16    170451\n",
      "weighted avg       0.47      0.64      0.50    170451\n",
      "\n"
     ]
    }
   ],
   "source": [
    "#DecisionTreeClassifier\n",
    "from sklearn.tree import DecisionTreeClassifier\n",
    "\n",
    "dt=DecisionTreeClassifier(max_depth=2)\n",
    "\n",
    "#Training the Model\n",
    "dt.fit(x_train_trans_1, Y_train)\n",
    "\n",
    "#Predict the Model\n",
    "y_pred=dt.predict(x_test_trans_1)\n",
    "\n",
    "#Evaluating the Model\n",
    "from sklearn import metrics\n",
    "dt_score=metrics.accuracy_score(Y_test,y_pred)\n",
    "\n",
    "print(\"Accuracy:\",dt_score*100)\n",
    "print(\"Classification Report:\\n\",metrics.classification_report(Y_test,y_pred))"
   ]
  },
  {
   "cell_type": "markdown",
   "id": "33ce0028",
   "metadata": {},
   "source": [
    "## Naive Bayes"
   ]
  },
  {
   "cell_type": "code",
   "execution_count": 25,
   "id": "5c86a992",
   "metadata": {},
   "outputs": [
    {
     "name": "stdout",
     "output_type": "stream",
     "text": [
      "Accuracy: 74.14036878633742\n",
      "Classification Report:\n",
      "               precision    recall  f1-score   support\n",
      "\n",
      "           1       0.64      0.70      0.67     15569\n",
      "           2       0.63      0.18      0.28      9065\n",
      "           3       0.53      0.32      0.40     12935\n",
      "           4       0.46      0.40      0.43     24279\n",
      "           5       0.82      0.92      0.87    108603\n",
      "\n",
      "    accuracy                           0.74    170451\n",
      "   macro avg       0.61      0.51      0.53    170451\n",
      "weighted avg       0.72      0.74      0.72    170451\n",
      "\n"
     ]
    }
   ],
   "source": [
    "#MultiNomialNaiveBayes\n",
    "from sklearn.naive_bayes import MultinomialNB\n",
    "mnb=MultinomialNB()\n",
    "\n",
    "#Training The Model\n",
    "mnb.fit(x_train_trans_1,Y_train)\n",
    "\n",
    "#Predicting the Model\n",
    "y_mnb_pred=mnb.predict(x_test_trans_1)\n",
    "\n",
    "#Evaluating the Model\n",
    "from sklearn import metrics\n",
    "gnb_score=metrics.accuracy_score(Y_test,y_mnb_pred)\n",
    "\n",
    "print(\"Accuracy:\",gnb_score*100)\n",
    "print(\"Classification Report:\\n\",metrics.classification_report(Y_test,y_mnb_pred))"
   ]
  },
  {
   "cell_type": "code",
   "execution_count": 41,
   "id": "f89173d9",
   "metadata": {},
   "outputs": [
    {
     "data": {
      "text/html": [
       "<div>\n",
       "<style scoped>\n",
       "    .dataframe tbody tr th:only-of-type {\n",
       "        vertical-align: middle;\n",
       "    }\n",
       "\n",
       "    .dataframe tbody tr th {\n",
       "        vertical-align: top;\n",
       "    }\n",
       "\n",
       "    .dataframe thead th {\n",
       "        text-align: right;\n",
       "    }\n",
       "</style>\n",
       "<table border=\"1\" class=\"dataframe\">\n",
       "  <thead>\n",
       "    <tr style=\"text-align: right;\">\n",
       "      <th></th>\n",
       "      <th>Model</th>\n",
       "      <th>Accuracy</th>\n",
       "      <th>Precision</th>\n",
       "      <th>F1_Score</th>\n",
       "    </tr>\n",
       "  </thead>\n",
       "  <tbody>\n",
       "    <tr>\n",
       "      <th>0</th>\n",
       "      <td>Logistic Regression</td>\n",
       "      <td>76.931787</td>\n",
       "      <td>63.011013</td>\n",
       "      <td>74.911996</td>\n",
       "    </tr>\n",
       "    <tr>\n",
       "      <th>1</th>\n",
       "      <td>Gradient Boosting</td>\n",
       "      <td>70.893101</td>\n",
       "      <td>65.154196</td>\n",
       "      <td>64.908922</td>\n",
       "    </tr>\n",
       "    <tr>\n",
       "      <th>2</th>\n",
       "      <td>AdaBoosting</td>\n",
       "      <td>64.095840</td>\n",
       "      <td>53.489928</td>\n",
       "      <td>50.501167</td>\n",
       "    </tr>\n",
       "    <tr>\n",
       "      <th>3</th>\n",
       "      <td>Decision Tree</td>\n",
       "      <td>63.777860</td>\n",
       "      <td>21.260172</td>\n",
       "      <td>50.144151</td>\n",
       "    </tr>\n",
       "    <tr>\n",
       "      <th>4</th>\n",
       "      <td>Naive Bayes</td>\n",
       "      <td>74.140369</td>\n",
       "      <td>61.432285</td>\n",
       "      <td>72.072159</td>\n",
       "    </tr>\n",
       "  </tbody>\n",
       "</table>\n",
       "</div>"
      ],
      "text/plain": [
       "                 Model   Accuracy  Precision   F1_Score\n",
       "0  Logistic Regression  76.931787  63.011013  74.911996\n",
       "1    Gradient Boosting  70.893101  65.154196  64.908922\n",
       "2          AdaBoosting  64.095840  53.489928  50.501167\n",
       "3        Decision Tree  63.777860  21.260172  50.144151\n",
       "4          Naive Bayes  74.140369  61.432285  72.072159"
      ]
     },
     "execution_count": 41,
     "metadata": {},
     "output_type": "execute_result"
    }
   ],
   "source": [
    "#calculating the F1-score\n",
    "lr_f1=metrics.f1_score(Y_test,y_test_pred,pos_label=\"positive\",average=\"weighted\")\n",
    "mnb_f1=metrics.f1_score(Y_test,y_mnb_pred,pos_label=\"positive\",average=\"weighted\")\n",
    "gb_f1=metrics.f1_score(Y_test,y_gb_pred,pos_label=\"positive\",average=\"weighted\")\n",
    "dt_f1=metrics.f1_score(Y_test,y_pred,pos_label=\"positive\",average=\"weighted\")\n",
    "ad_f1=metrics.f1_score(Y_test,y_adb_pred,pos_label=\"positive\",average=\"weighted\")\n",
    "\n",
    "#calculating the Precision-score\n",
    "lr_pre=metrics.precision_score(Y_test,y_test_pred,pos_label=\"positive\",average=\"macro\")\n",
    "mnb_pre=metrics.precision_score(Y_test,y_mnb_pred,pos_label=\"positive\",average=\"macro\")\n",
    "gb_pre=metrics.precision_score(Y_test,y_gb_pred,pos_label=\"positive\",average=\"macro\")\n",
    "dt_pre=metrics.precision_score(Y_test,y_pred,pos_label=\"positive\",average=\"macro\")\n",
    "ad_pre=metrics.precision_score(Y_test,y_adb_pred,pos_label=\"positive\",average=\"macro\")\n",
    "\n",
    "#creating Lists for respective Metrics\n",
    "acc=[lg_score*100,gbc_score*100,abg_score*100,dt_score*100,gnb_score*100]\n",
    "f1=[lr_f1*100,gb_f1*100,ad_f1*100,dt_f1*100,mnb_f1*100]\n",
    "prec=[lr_pre*100,gb_pre*100,ad_pre*100,dt_pre*100,mnb_pre*100]\n",
    "mod=[\"Logistic Regression\",\"Gradient Boosting\",\"AdaBoosting\",\"Decision Tree\",\"Naive Bayes\"]\n",
    "#creating Dataframe for Comparision of Models\n",
    "\n",
    "com_df=pd.DataFrame({\"Model\":mod,\n",
    "                    \"Accuracy\":acc,\n",
    "                    \"Precision\":prec,\n",
    "                    \"F1_Score\":f1})\n",
    "com_df"
   ]
  },
  {
   "cell_type": "markdown",
   "id": "9083e9a2",
   "metadata": {},
   "source": [
    "# Conclusion:\n",
    "1. The results of the evaluation using F1 score as the metric shows that , **Logistic Regression** Performing well compared to other models, with a score of **74.91**%.\n",
    "\n",
    "2. Naive Bayes(Multinomial) and Gradient Bossint Classifier is the second-best performance, with a score of 72.07% and 64.91%\n",
    "\n",
    "These results suggest that **Logistic Regression, Naive Bayes and Gradient Boosting** these three may be the most effective model for this particular task.\n",
    "\n",
    "Although further evaluation and validation is necessary to confirm this conclusion.\n",
    "\n",
    "**Logistic Regression, Naive Bayes**  we can use these two models for the deployment due time, speed of the execution and **F1 score**."
   ]
  },
  {
   "cell_type": "markdown",
   "id": "f5129241",
   "metadata": {},
   "source": [
    "# Saving the Model"
   ]
  },
  {
   "cell_type": "code",
   "execution_count": null,
   "id": "b8e62f5c",
   "metadata": {},
   "outputs": [],
   "source": [
    "#Saving the Model using Pickle\n",
    "import pickle\n",
    "pickle.dump(log,open(r\"C:\\Users\\hp\\Desktop\\inmtks\\Projects\\sent_text\\final_model_sent\",\"wb\"))"
   ]
  },
  {
   "cell_type": "code",
   "execution_count": null,
   "id": "ca8f1715",
   "metadata": {},
   "outputs": [],
   "source": []
  }
 ],
 "metadata": {
  "kernelspec": {
   "display_name": "Python 3 (ipykernel)",
   "language": "python",
   "name": "python3"
  },
  "language_info": {
   "codemirror_mode": {
    "name": "ipython",
    "version": 3
   },
   "file_extension": ".py",
   "mimetype": "text/x-python",
   "name": "python",
   "nbconvert_exporter": "python",
   "pygments_lexer": "ipython3",
   "version": "3.9.13"
  }
 },
 "nbformat": 4,
 "nbformat_minor": 5
}
